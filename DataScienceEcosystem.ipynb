{
 "cells": [
  {
   "cell_type": "markdown",
   "id": "a9d54e25",
   "metadata": {},
   "source": [
    "# Data Science Tools and Ecosystem"
   ]
  },
  {
   "cell_type": "markdown",
   "id": "d8649831",
   "metadata": {},
   "source": [
    "In this notebook, Data Science Tools and ecosystem are summarized."
   ]
  },
  {
   "cell_type": "markdown",
   "id": "274bea9f",
   "metadata": {},
   "source": [
    "Some of the popular languages that Data Scientists use are: \n",
    "1. Python   \n",
    "2. SQL   \n",
    "3. R"
   ]
  },
  {
   "cell_type": "markdown",
   "id": "11f10feb",
   "metadata": {},
   "source": [
    "Some of the commonly used libraries used by Data Scienctists include:\n",
    "1. NumPy\n",
    "2. Pandas\n",
    "3. Matplotlib\n",
    "4. Scikit-learn\n",
    "5. TensorFlow\n",
    "6. ggplot2\n",
    "7. caret"
   ]
  },
  {
   "cell_type": "markdown",
   "id": "2a765779",
   "metadata": {},
   "source": [
    "| Data Science Tools |\n",
    " -----------------------\n",
    "| GitHub |\n",
    "| MySQL |\n",
    "| Apache Cassandra |"
   ]
  },
  {
   "cell_type": "markdown",
   "id": "eb7a28ff",
   "metadata": {},
   "source": [
    "### Below are a few examples of evaluating arithmetic expressions in Python"
   ]
  },
  {
   "cell_type": "code",
   "execution_count": 3,
   "id": "02f11103",
   "metadata": {},
   "outputs": [
    {
     "data": {
      "text/plain": [
       "17"
      ]
     },
     "execution_count": 3,
     "metadata": {},
     "output_type": "execute_result"
    }
   ],
   "source": [
    "# This is a simple arithmetic expression to multiply then add integers\n",
    "(3*4)+5"
   ]
  },
  {
   "cell_type": "code",
   "execution_count": 4,
   "id": "d1c6c783",
   "metadata": {},
   "outputs": [
    {
     "data": {
      "text/plain": [
       "3.3333333333333335"
      ]
     },
     "execution_count": 4,
     "metadata": {},
     "output_type": "execute_result"
    }
   ],
   "source": [
    "# This will convert 200 minutes to hours by dividing by 60\n",
    "200/60"
   ]
  },
  {
   "cell_type": "markdown",
   "id": "85ae87bc",
   "metadata": {},
   "source": [
    "**Objectives:**\n",
    "- List popular languages for Data Science\n",
    "- List commonly used libraries for Data Science\n",
    "- List open source tools used in Data Science"
   ]
  },
  {
   "cell_type": "markdown",
   "id": "9a976ec4",
   "metadata": {},
   "source": [
    "## Author\n",
    "David(Sungjin) Suh"
   ]
  }
 ],
 "metadata": {
  "kernelspec": {
   "display_name": "Python 3 (ipykernel)",
   "language": "python",
   "name": "python3"
  },
  "language_info": {
   "codemirror_mode": {
    "name": "ipython",
    "version": 3
   },
   "file_extension": ".py",
   "mimetype": "text/x-python",
   "name": "python",
   "nbconvert_exporter": "python",
   "pygments_lexer": "ipython3",
   "version": "3.10.9"
  }
 },
 "nbformat": 4,
 "nbformat_minor": 5
}
